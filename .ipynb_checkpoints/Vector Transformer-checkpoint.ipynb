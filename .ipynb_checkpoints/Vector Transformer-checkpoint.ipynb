{
 "cells": [
  {
   "cell_type": "code",
   "execution_count": 1,
   "metadata": {},
   "outputs": [],
   "source": [
    "import tensorflow"
   ]
  },
  {
   "cell_type": "markdown",
   "metadata": {},
   "source": [
    "GET 1.13.1 !!!!!"
   ]
  },
  {
   "cell_type": "code",
   "execution_count": 2,
   "metadata": {},
   "outputs": [
    {
     "data": {
      "text/plain": [
       "'1.2.1'"
      ]
     },
     "execution_count": 2,
     "metadata": {},
     "output_type": "execute_result"
    }
   ],
   "source": [
    "tensorflow.__version__"
   ]
  },
  {
   "cell_type": "code",
   "execution_count": null,
   "metadata": {},
   "outputs": [],
   "source": [
    "import "
   ]
  },
  {
   "cell_type": "code",
   "execution_count": 1,
   "metadata": {},
   "outputs": [],
   "source": [
    "import sklearn, pandas as pd"
   ]
  },
  {
   "cell_type": "code",
   "execution_count": 2,
   "metadata": {},
   "outputs": [],
   "source": [
    "import numpy as np, os"
   ]
  },
  {
   "cell_type": "code",
   "execution_count": null,
   "metadata": {},
   "outputs": [],
   "source": [
    "from gensim import models\n",
    "\n",
    "w = models.KeyedVectors.load_word2vec_format(\n",
    "    './GoogleNews-vectors-negative300.bin', binary=True)"
   ]
  },
  {
   "cell_type": "code",
   "execution_count": 5,
   "metadata": {},
   "outputs": [],
   "source": [
    "dirname = \"./data/cnn_stories_tokenized/\" \n",
    "\n",
    "directory = os.fsencode(dirname)\n",
    "filenames = []\n",
    "\n",
    "#table_dict = {\"president\":[],\"year\":[],\"speech\":[]}\n",
    "\n",
    "for file in os.listdir(directory):\n",
    "    filenames.append(file)\n",
    "    \n",
    "    \"\"\"filename = os.fsdecode(file)\n",
    "    \n",
    "    arr = filename.split(\"_\")\n",
    "    t = arr[1]\n",
    "    arr[1] = arr[1][:4]\n",
    "    \n",
    "    table_dict['president'].append(arr[0])\n",
    "    table_dict['year'].append(arr[1])\n",
    "    \n",
    "    with open(dirname + \"/\" + filename,'r') as file:\n",
    "        table_dict['speech'].append(\" \".join(file.readlines()))\"\"\""
   ]
  },
  {
   "cell_type": "code",
   "execution_count": 9,
   "metadata": {},
   "outputs": [
    {
     "data": {
      "text/plain": [
       "b'00027e965c8264c35cc1bc55556db388da82b07f.story'"
      ]
     },
     "execution_count": 9,
     "metadata": {},
     "output_type": "execute_result"
    }
   ],
   "source": [
    "filenames[3]"
   ]
  },
  {
   "cell_type": "code",
   "execution_count": null,
   "metadata": {},
   "outputs": [],
   "source": []
  },
  {
   "cell_type": "code",
   "execution_count": 1,
   "metadata": {},
   "outputs": [],
   "source": [
    "#function that splits non-binary data (probably wont use\n",
    "def split_story(doc):\n",
    "    # find first highlight\n",
    "    index = doc.find('@highlight')\n",
    "    # split into story and highlights\n",
    "    story, highlights = doc[:index], doc[index:].split('@highlight')\n",
    "    # strip extra white space around each highlight\n",
    "    highlights = [h.strip() for h in highlights if len(h) > 0]\n",
    "    return story, highlights"
   ]
  },
  {
   "cell_type": "markdown",
   "metadata": {},
   "source": [
    "### GloVe - pretrained glove vectors for words"
   ]
  },
  {
   "cell_type": "code",
   "execution_count": 8,
   "metadata": {},
   "outputs": [],
   "source": [
    "gloveFile = \"./glove.6B/glove.6B.50d.txt\""
   ]
  },
  {
   "cell_type": "markdown",
   "metadata": {},
   "source": [
    "download at https://nlp.stanford.edu/projects/glove/"
   ]
  },
  {
   "cell_type": "code",
   "execution_count": 9,
   "metadata": {},
   "outputs": [],
   "source": [
    "#https://stackoverflow.com/questions/37793118/load-pretrained-glove-vectors-in-python\n",
    "def loadGloveModel(gloveFile):\n",
    "    print(\"Loading Glove Model\")\n",
    "    with open(gloveFile,'r') as f:\n",
    "        model = {}\n",
    "        for line in f:\n",
    "            splitLine = line.split()\n",
    "            word = splitLine[0]\n",
    "            embedding = np.array([float(val) for val in splitLine[1:]])\n",
    "            model[word] = embedding\n",
    "        print(\"Done.\",len(model),\" words loaded!\")\n",
    "        return model"
   ]
  },
  {
   "cell_type": "code",
   "execution_count": 10,
   "metadata": {},
   "outputs": [
    {
     "name": "stdout",
     "output_type": "stream",
     "text": [
      "Loading Glove Model\n",
      "Done. 400000  words loaded!\n"
     ]
    }
   ],
   "source": [
    "#load 50 dimensional vectors for GloVe (dimensions available include 100, 200, and 300)\n",
    "glove50_encodings = loadGloveModel(gloveFile)"
   ]
  },
  {
   "cell_type": "code",
   "execution_count": null,
   "metadata": {},
   "outputs": [],
   "source": []
  },
  {
   "cell_type": "code",
   "execution_count": null,
   "metadata": {},
   "outputs": [],
   "source": []
  },
  {
   "cell_type": "code",
   "execution_count": null,
   "metadata": {},
   "outputs": [],
   "source": []
  },
  {
   "cell_type": "code",
   "execution_count": null,
   "metadata": {},
   "outputs": [],
   "source": []
  },
  {
   "cell_type": "code",
   "execution_count": 24,
   "metadata": {},
   "outputs": [],
   "source": [
    "import struct"
   ]
  },
  {
   "cell_type": "code",
   "execution_count": 25,
   "metadata": {},
   "outputs": [],
   "source": [
    "f = \"./data/chunked/train_038.bin\""
   ]
  },
  {
   "cell_type": "code",
   "execution_count": null,
   "metadata": {},
   "outputs": [],
   "source": []
  },
  {
   "cell_type": "code",
   "execution_count": 26,
   "metadata": {},
   "outputs": [],
   "source": [
    "reader = open(f, 'rb')"
   ]
  },
  {
   "cell_type": "code",
   "execution_count": 29,
   "metadata": {},
   "outputs": [],
   "source": [
    "from tensorflow.core.example import example_pb2"
   ]
  },
  {
   "cell_type": "code",
   "execution_count": 28,
   "metadata": {},
   "outputs": [
    {
     "data": {
      "text/plain": [
       "bytes"
      ]
     },
     "execution_count": 28,
     "metadata": {},
     "output_type": "execute_result"
    }
   ],
   "source": [
    "type(example_str)"
   ]
  },
  {
   "cell_type": "code",
   "execution_count": 27,
   "metadata": {
    "scrolled": true
   },
   "outputs": [
    {
     "name": "stdout",
     "output_type": "stream",
     "text": [
      "b\"\\n\\xe0+\\n\\x84\\x03\\n\\x08abstract\\x12\\xf7\\x02\\n\\xf4\\x02\\n\\xf1\\x02<s> new : a lawyer says he believes the defense is willing to accept a life sentence . </s> <s> ariel castro is accused of holding three woman against their will for close to a decade . </s> <s> castro , 52 , was indicted last week on 329 counts , including kidnapping and rape . </s> <s> the defense signals an effort to forge a `` resolution '' and avoid trial . </s>\\n\\xd6(\\n\\x07article\\x12\\xca(\\n\\xc7(\\n\\xc4(-lrb- cnn -rrb- -- an ohio man accused of murder , rape and holding three women in a cleveland house against their will pleaded not guilty wednesday . his attorney said it was an effort to stave off a death penalty and an arduous trial . ariel castro , 52 , wore an orange jumpsuit , kept his head bowed and did n't speak as attorneys entered the plea on their client 's behalf at his brief arraignment in a cleveland courtroom . he was indicted last week on 329 counts . defense attorney craig weintraub , speaking to reporters after the arraignment , said some charges in the indictment `` can not be disputed . '' but the plea -- targeting the murder accusations and the specter of a death penalty -- signals an effort to forge a `` resolution '' and avoid a trial , he said . two counts accuse castro of aggravated murder for purposely causing the unlawful termination of pregnancies . police say one of the young women he is accused of holding was impregnated five times by castro , and another bore a child fathered by him . weintraub told reporters that the plea `` requires the prosecutor to continue to evaluate their case and determine whether medical and forensic evidence can actually support an aggravated murder conviction for the death of a fetus and whether the death penalty is warranted . '' rescued women ` happy and safe , ' attorneys say . the prosecutor released a statement saying a capital review committee will consider whether the case is appropriate for seeking the death penalty once the indictment process is complete . weintraub , castro 's attorney , acknowledged that `` in all likelihood , the prosecutor 's decision will be predicated upon the opinions of medical and forensic experts , and more importantly , whether the women in this case want this case to go to trial for those limited issues . '' `` we are very sensitive to the emotional strain and impact that a trial would have on the women , their families and this community , '' the lawyer said . `` mr. castro currently faces hundreds of years in prison with the current charges , and it is our hope that we can continue to work toward a resolution to avoid having an unnecessary trial about aggravated murder and the death penalty . '' life during and after the abductions . ian friedman , a cleveland criminal defense attorney , told cnn 's piers morgan later wednesday that castro 's defense team appeared to be laying out a scenario that ends with their client spending the rest of his life behind bars . `` do n't bring the death penalty , there will be a plea , let 's do life , '' friedman said , offering his take on their strategy . the charges cover only half of the 10 years the three women allegedly were held captive -- from august 2002 , when the first of the three disappeared off a cleveland street , to february 2007 . in addition to the two murder counts , the indictment charges castro with 139 counts of rape , 177 counts of kidnapping , seven counts of gross sexual imposition , three counts of felonious assault and one count of possession of criminal tools , prosecutors said . castro 's case has attracted national attention because of the unusual length and depravity of the alleged crimes . `` the horrific brutality and torture that the victims endured for a decade is beyond comprehension , '' cuyahoga county prosecutor timothy mcginty has said . ` please do n't let me go , ' cleveland kidnap victim told officers . the women were freed last month after one of the three shouted for help while castro was away from his 1,400-square-foot home . the women have been identified as michelle knight , abducted at age 21 in august 2002 ; amanda berry , who was kidnapped at age 16 in april 2003 and has a 6-year-old daughter allegedly fathered by castro ; and georgina `` gina '' dejesus , who was 14 when she disappeared in 2004 . lawyers for the women expressed confidence and satisfaction after the indictment came down last week . jim wooley , attorney for berry and dejesus , and speaking on behalf of knight , said wednesday that `` days like today are not easy . '' `` we understand the legal process needs to run its course , '' he said . `` we are hopeful for a just and prompt resolution . we have great faith in the prosecutor 's office and the court . '' dejesus knew ariel castro , her family told cnn affiliate woio . she was a good friend of castro 's daughter , arlene . one year after dejesus ' disappearance , arlene castro publicly crusaded to find her friend 's kidnapper . in spring 2005 she went on the national television program `` america 's most wanted '' to plead for help in finding her friend . ariel castro gave ex-daughter-in-law the ` heebie-jeebies ' ariel castro attended at least two public vigils for the missing girls while they were allegedly inside his home , relatives told woio . castro , a former school bus driver , remains in a cleveland jail on $ 8 million bond . he made a brief court appearance soon after his arrest . handcuffed and wearing a blue jumpsuit , he looked down throughout that hearing and did not speak . castro 's brothers : ariel fooled us . cnn 's jason hanna and greg botelho contributed to this report .\"\n"
     ]
    }
   ],
   "source": [
    "len_bytes = reader.read(8)\n",
    "str_len = struct.unpack('q', len_bytes)[0]\n",
    "example_str = struct.unpack('%ds' % str_len, reader.read(str_len))[0]\n",
    "print(example_str)\n",
    "#break\n",
    "#yield example_pb2.Example.FromString(example_str)"
   ]
  },
  {
   "cell_type": "code",
   "execution_count": 32,
   "metadata": {},
   "outputs": [
    {
     "data": {
      "text/plain": [
       "features {\n",
       "  feature {\n",
       "    key: \"abstract\"\n",
       "    value {\n",
       "      bytes_list {\n",
       "        value: \"<s> new : a lawyer says he believes the defense is willing to accept a life sentence . </s> <s> ariel castro is accused of holding three woman against their will for close to a decade . </s> <s> castro , 52 , was indicted last week on 329 counts , including kidnapping and rape . </s> <s> the defense signals an effort to forge a `` resolution \\'\\' and avoid trial . </s>\"\n",
       "      }\n",
       "    }\n",
       "  }\n",
       "  feature {\n",
       "    key: \"article\"\n",
       "    value {\n",
       "      bytes_list {\n",
       "        value: \"-lrb- cnn -rrb- -- an ohio man accused of murder , rape and holding three women in a cleveland house against their will pleaded not guilty wednesday . his attorney said it was an effort to stave off a death penalty and an arduous trial . ariel castro , 52 , wore an orange jumpsuit , kept his head bowed and did n\\'t speak as attorneys entered the plea on their client \\'s behalf at his brief arraignment in a cleveland courtroom . he was indicted last week on 329 counts . defense attorney craig weintraub , speaking to reporters after the arraignment , said some charges in the indictment `` can not be disputed . \\'\\' but the plea -- targeting the murder accusations and the specter of a death penalty -- signals an effort to forge a `` resolution \\'\\' and avoid a trial , he said . two counts accuse castro of aggravated murder for purposely causing the unlawful termination of pregnancies . police say one of the young women he is accused of holding was impregnated five times by castro , and another bore a child fathered by him . weintraub told reporters that the plea `` requires the prosecutor to continue to evaluate their case and determine whether medical and forensic evidence can actually support an aggravated murder conviction for the death of a fetus and whether the death penalty is warranted . \\'\\' rescued women ` happy and safe , \\' attorneys say . the prosecutor released a statement saying a capital review committee will consider whether the case is appropriate for seeking the death penalty once the indictment process is complete . weintraub , castro \\'s attorney , acknowledged that `` in all likelihood , the prosecutor \\'s decision will be predicated upon the opinions of medical and forensic experts , and more importantly , whether the women in this case want this case to go to trial for those limited issues . \\'\\' `` we are very sensitive to the emotional strain and impact that a trial would have on the women , their families and this community , \\'\\' the lawyer said . `` mr. castro currently faces hundreds of years in prison with the current charges , and it is our hope that we can continue to work toward a resolution to avoid having an unnecessary trial about aggravated murder and the death penalty . \\'\\' life during and after the abductions . ian friedman , a cleveland criminal defense attorney , told cnn \\'s piers morgan later wednesday that castro \\'s defense team appeared to be laying out a scenario that ends with their client spending the rest of his life behind bars . `` do n\\'t bring the death penalty , there will be a plea , let \\'s do life , \\'\\' friedman said , offering his take on their strategy . the charges cover only half of the 10 years the three women allegedly were held captive -- from august 2002 , when the first of the three disappeared off a cleveland street , to february 2007 . in addition to the two murder counts , the indictment charges castro with 139 counts of rape , 177 counts of kidnapping , seven counts of gross sexual imposition , three counts of felonious assault and one count of possession of criminal tools , prosecutors said . castro \\'s case has attracted national attention because of the unusual length and depravity of the alleged crimes . `` the horrific brutality and torture that the victims endured for a decade is beyond comprehension , \\'\\' cuyahoga county prosecutor timothy mcginty has said . ` please do n\\'t let me go , \\' cleveland kidnap victim told officers . the women were freed last month after one of the three shouted for help while castro was away from his 1,400-square-foot home . the women have been identified as michelle knight , abducted at age 21 in august 2002 ; amanda berry , who was kidnapped at age 16 in april 2003 and has a 6-year-old daughter allegedly fathered by castro ; and georgina `` gina \\'\\' dejesus , who was 14 when she disappeared in 2004 . lawyers for the women expressed confidence and satisfaction after the indictment came down last week . jim wooley , attorney for berry and dejesus , and speaking on behalf of knight , said wednesday that `` days like today are not easy . \\'\\' `` we understand the legal process needs to run its course , \\'\\' he said . `` we are hopeful for a just and prompt resolution . we have great faith in the prosecutor \\'s office and the court . \\'\\' dejesus knew ariel castro , her family told cnn affiliate woio . she was a good friend of castro \\'s daughter , arlene . one year after dejesus \\' disappearance , arlene castro publicly crusaded to find her friend \\'s kidnapper . in spring 2005 she went on the national television program `` america \\'s most wanted \\'\\' to plead for help in finding her friend . ariel castro gave ex-daughter-in-law the ` heebie-jeebies \\' ariel castro attended at least two public vigils for the missing girls while they were allegedly inside his home , relatives told woio . castro , a former school bus driver , remains in a cleveland jail on $ 8 million bond . he made a brief court appearance soon after his arrest . handcuffed and wearing a blue jumpsuit , he looked down throughout that hearing and did not speak . castro \\'s brothers : ariel fooled us . cnn \\'s jason hanna and greg botelho contributed to this report .\"\n",
       "      }\n",
       "    }\n",
       "  }\n",
       "}"
      ]
     },
     "execution_count": 32,
     "metadata": {},
     "output_type": "execute_result"
    }
   ],
   "source": [
    "example_pb2.Example.FromString(example_str)"
   ]
  },
  {
   "cell_type": "code",
   "execution_count": null,
   "metadata": {},
   "outputs": [],
   "source": []
  }
 ],
 "metadata": {
  "kernelspec": {
   "display_name": "pointergenerator",
   "language": "python",
   "name": "pointergenerator"
  },
  "language_info": {
   "codemirror_mode": {
    "name": "ipython",
    "version": 2
   },
   "file_extension": ".py",
   "mimetype": "text/x-python",
   "name": "python",
   "nbconvert_exporter": "python",
   "pygments_lexer": "ipython2",
   "version": "2.7.12"
  }
 },
 "nbformat": 4,
 "nbformat_minor": 2
}
